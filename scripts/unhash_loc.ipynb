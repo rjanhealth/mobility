{
 "cells": [
  {
   "cell_type": "markdown",
   "metadata": {},
   "source": [
    "# Geohash Decode"
   ]
  },
  {
   "cell_type": "markdown",
   "metadata": {},
   "source": [
    "#### Author: Rebecca Jan | rebecca.jan@health.vic.gov.au"
   ]
  },
  {
   "cell_type": "markdown",
   "metadata": {},
   "source": [
    "Import packages"
   ]
  },
  {
   "cell_type": "code",
   "execution_count": null,
   "metadata": {},
   "outputs": [],
   "source": [
    "import numpy as np\n",
    "import pandas as pd\n",
    "import pygeohash as pgh\n",
    "import sklearn as sk"
   ]
  },
  {
   "cell_type": "markdown",
   "metadata": {},
   "source": [
    "Load Data"
   ]
  },
  {
   "cell_type": "code",
   "execution_count": null,
   "metadata": {},
   "outputs": [],
   "source": [
    "path='C:\\\\Users\\\\vicsxk6\\\\OneDrive - Department of Health and Human Services. Victoria\\\\Documents\\\\Python Scripts\\mobility\\\\'\n",
    "df = pd.read_excel(path+'input\\sample.xlsx', index_col=None)  "
   ]
  },
  {
   "cell_type": "markdown",
   "metadata": {},
   "source": [
    "Covert Geocode Columns"
   ]
  },
  {
   "cell_type": "code",
   "execution_count": null,
   "metadata": {},
   "outputs": [],
   "source": [
    "df['pinged'] = df.apply(lambda rec: pgh.decode(rec['PingLocation_GH8']), axis=1)\n",
    "df['home'] = df.apply(lambda rec: pgh.decode(rec['HomeLocation']), axis=1)"
   ]
  },
  {
   "source": [
    "Split Latitude & Longitude"
   ],
   "cell_type": "markdown",
   "metadata": {}
  },
  {
   "source": [
    "df['pinged'].tolist();\n",
    "df['home'].tolist();"
   ],
   "cell_type": "code",
   "metadata": {},
   "execution_count": null,
   "outputs": []
  },
  {
   "cell_type": "code",
   "execution_count": null,
   "metadata": {},
   "outputs": [],
   "source": [
    "df[['plat', 'plon']] = pd.DataFrame(df['pinged'].tolist(), index=df.index)\n",
    "df[['hlat', 'hlon']] = pd.DataFrame(df['home'].tolist(), index=df.index)"
   ]
  },
  {
   "cell_type": "markdown",
   "metadata": {},
   "source": [
    "Export to Excel"
   ]
  },
  {
   "cell_type": "code",
   "execution_count": null,
   "metadata": {},
   "outputs": [],
   "source": [
    "df.to_excel(path+'output\\mobility.xlsx', index=False)"
   ]
  }
 ],
 "metadata": {
  "kernelspec": {
   "name": "python3",
   "display_name": "Python 3.9.2 64-bit",
   "metadata": {
    "interpreter": {
     "hash": "26e36362cb8b07bc21426d265b7c85421e7f7c14fd8b27d7ed99a5505c1bd370"
    }
   }
  },
  "language_info": {
   "codemirror_mode": {
    "name": "ipython",
    "version": 3
   },
   "file_extension": ".py",
   "mimetype": "text/x-python",
   "name": "python",
   "nbconvert_exporter": "python",
   "pygments_lexer": "ipython3",
   "version": "3.9.2-final"
  }
 },
 "nbformat": 4,
 "nbformat_minor": 4
}